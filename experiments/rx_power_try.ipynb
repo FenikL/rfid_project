{
 "metadata": {
  "language_info": {
   "codemirror_mode": {
    "name": "ipython",
    "version": 3
   },
   "file_extension": ".py",
   "mimetype": "text/x-python",
   "name": "python",
   "nbconvert_exporter": "python",
   "pygments_lexer": "ipython3",
   "version": "3.8.5-final"
  },
  "orig_nbformat": 2,
  "kernelspec": {
   "name": "python3",
   "display_name": "Python 3.8.5 64-bit ('.venv': venv)",
   "metadata": {
    "interpreter": {
     "hash": "0fc2cb60dc1048c81fc6c6cae877a5fdcad35ddb6d5af33892d5f53f3b7f13e6"
    }
   }
  }
 },
 "nbformat": 4,
 "nbformat_minor": 2,
 "cells": [
  {
   "cell_type": "code",
   "execution_count": 18,
   "metadata": {},
   "outputs": [],
   "source": [
    "import numpy as np\n",
    "from numba import vectorize\n",
    "from numpy import linalg as la"
   ]
  },
  {
   "cell_type": "code",
   "execution_count": 44,
   "metadata": {},
   "outputs": [],
   "source": [
    "SPEED_OF_LIGHT = 299792458.0 \n",
    "permittivity = 15.0\n",
    "conductivity = 3e-2"
   ]
  },
  {
   "cell_type": "code",
   "execution_count": 4,
   "metadata": {},
   "outputs": [],
   "source": [
    "@vectorize\n",
    "def lin2db(value_linear):\n",
    "    return 10 * np.log10(value_linear) if value_linear >= 1e-15 else -np.inf"
   ]
  },
  {
   "cell_type": "code",
   "execution_count": 5,
   "metadata": {},
   "outputs": [],
   "source": [
    "def dipole_rp(*, azimuth, **kwargs):\n",
    "    \"\"\"\n",
    "    Returns dipole directional gain\n",
    "    :param azimuth:\n",
    "    :return:\n",
    "    \"\"\"\n",
    "    c = np.cos(azimuth)\n",
    "    s = np.sin(azimuth)\n",
    "    if c > 1e-9:\n",
    "        return np.abs(np.cos(np.pi / 2 * s) / c)\n",
    "    else:\n",
    "        return 0.0"
   ]
  },
  {
   "cell_type": "code",
   "execution_count": 6,
   "metadata": {},
   "outputs": [],
   "source": [
    "def _reflection_c_parallel(grazing_angle, permittivity, conductivity, wavelen):\n",
    "    eta = permittivity - 60j * wavelen * conductivity\n",
    "    c = np.cos(grazing_angle)\n",
    "    return (eta - c ** 2) ** 0.5\n",
    "\n",
    "\n",
    "def _reflection_c_perpendicular(grazing_angle, permittivity, conductivity, wavelen):\n",
    "    eta = permittivity - 60j * wavelen * conductivity\n",
    "    c = np.cos(grazing_angle)\n",
    "    return (eta - c ** 2) ** 0.5 / eta\n",
    "\n",
    "\n",
    "# noinspection PyUnusedLocal\n",
    "def reflection_constant(*, grazing_angle, polarization, permittivity, conductivity, wavelen, **kwargs):\n",
    "    return -1.0 + 0.j\n",
    "\n",
    "\n",
    "# noinspection PyUnusedLocal\n",
    "# @vectorize\n",
    "def reflection(*, grazing_angle, polarization, permittivity, conductivity, wavelen, **kwargs):\n",
    "    \"\"\"\n",
    "    Computes reflection coefficient from conducting surface with defined grazing angle and supported relative\n",
    "    permittivity and conductivity of the surface. In order to set type of wave polarization, polarization\n",
    "    parameter is specified. For parallel to surface polarized wave polarization should set to 1, for perpendicular -\n",
    "    to 0; for circular - to 0.5. For different type of elliptic polarization use other value in the range of 0..1\n",
    "    :param grazing_angle: an angle between normal to surface and wave vector\n",
    "    :param polarization: determine the type of polarization of the grazing wave\n",
    "    :param permittivity: the relative_permittivity of two media divided by the surface\n",
    "    :param conductivity: the conductivity of the surface\n",
    "    :param wavelen: the wave length of the grazing wave\n",
    "    :return: the reflection coefficient for specified parameters and the given grazing angle\n",
    "    \"\"\"\n",
    "    s = np.sin(grazing_angle)\n",
    "\n",
    "    if polarization < 0 or polarization > 1:\n",
    "        return float('nan')\n",
    "\n",
    "    if polarization != 0:\n",
    "        c_parallel = _reflection_c_parallel(grazing_angle, permittivity, conductivity, wavelen)\n",
    "        reflection_parallel = (s - c_parallel) / (s + c_parallel)\n",
    "    else:\n",
    "        reflection_parallel = 0.j\n",
    "\n",
    "    if polarization != 1:\n",
    "        c_perpendicular = _reflection_c_perpendicular(grazing_angle, permittivity, conductivity, wavelen)\n",
    "        reflection_perpendicular = (s - c_perpendicular) / (s + c_perpendicular)\n",
    "    else:\n",
    "        reflection_perpendicular = 0.j\n",
    "\n",
    "    return polarization * reflection_parallel + (1 - polarization) * reflection_perpendicular"
   ]
  },
  {
   "cell_type": "code",
   "execution_count": 57,
   "metadata": {},
   "outputs": [],
   "source": [
    "def two_ray_path_loss_3d(tx_pos, tx_dir_theta, rx_pos, rx_dir_theta, polarization):\n",
    "    \"\"\"\n",
    "    Computes free space signal attenuation between the transmitter and the receiver in linear scale.\n",
    "    :param wavelen: a wavelen of signal carrier\n",
    "    :param time: Time passed from the start of reception\n",
    "    :param ground_reflection: a function to compute a complex-valued reflection coefficient\n",
    "    :param tx_velocity: the velocity of the transmitter\n",
    "    :param tx_dir_phi: the vector pointed the direction with tilt angle equals 0 of the transmitter antenna.\n",
    "    :param tx_dir_theta: the vector pointed the direction with azimuth angle equals 0 of the transmitter antenna.\n",
    "    :param tx_pos: a current position of the transmitter.\n",
    "    :param tx_rp: a radiation pattern of the transmitter\n",
    "    :param rx_velocity: the velocity of the receiver\n",
    "    :param rx_dir_phi: the vector pointed the direction with tilt angle equals 0 of the transmitter antenna.\n",
    "    :param rx_dir_theta: the vector pointed the direction with azimuth angle equals 0 of the transmitter antenna.\n",
    "    :param rx_pos: a current position of the receiver\n",
    "    :param rx_rp: a radiation pattern of the receiver\n",
    "    :return: free space path loss in linear scale\n",
    "    \"\"\"\n",
    "\n",
    "    permittivity = 15.0\n",
    "    conductivity = 3e-2\n",
    "    wavelen=SPEED_OF_LIGHT/860e6\n",
    "\n",
    "    def dipole_rp(*, azimuth, **kwargs):  \n",
    "        \"\"\"\n",
    "        Returns dipole directional gain\n",
    "        :param azimuth:\n",
    "        :return:\n",
    "        \"\"\"\n",
    "        c = np.cos(azimuth)\n",
    "        s = np.sin(azimuth)\n",
    "        if c > 1e-9:\n",
    "            return np.abs(np.cos(np.pi / 2 * s) / c)\n",
    "        else:\n",
    "            return 0.0\n",
    "\n",
    "    wavelen = SPEED_OF_LIGHT/860e6,\n",
    "    # LoS - Line-of-Sight, NLoS - Non-Line-of-Sight\n",
    "\n",
    "    # Ray geometry computation\n",
    "    ground_normal = np.array([0, 0, 1])\n",
    "    rx_pos_refl = np.array([rx_pos[0], rx_pos[1], -rx_pos[2]])  # Reflect RX relatively the ground\n",
    "\n",
    "    d0_vector = rx_pos - tx_pos            # LoS ray vector\n",
    "    d1_vector = rx_pos_refl - tx_pos       # NLoS ray vector\n",
    "    d0 = la.norm(d0_vector)                # LoS ray length\n",
    "    d1 = la.norm(d1_vector)                # NLoS ray length\n",
    "    d0_vector_tx_n = d0_vector / d0        # LoS ray vector normalized\n",
    "    d0_vector_rx_n = -d0_vector_tx_n\n",
    "    d1_vector_tx_n = d1_vector / d1        # NLoS ray vector normalized\n",
    "    d1_vector_rx_n = np.array([-d1_vector_tx_n[0], -d1_vector_tx_n[1], d1_vector_tx_n[2]])\n",
    "\n",
    "    # Azimuth and tilt angle computation for computation of attenuation\n",
    "    # caused by deflection from polar direction\n",
    "    tx_azimuth_0 = np.arccos(np.dot(d0_vector_tx_n, tx_dir_theta))\n",
    "    rx_azimuth_0 = np.arccos(np.dot(d0_vector_rx_n, rx_dir_theta))\n",
    "    tx_azimuth_1 = np.arccos(np.dot(d1_vector_tx_n, tx_dir_theta))\n",
    "    rx_azimuth_1 = np.arccos(np.dot(d1_vector_rx_n, rx_dir_theta))\n",
    "\n",
    "    # A grazing angle of NLoS ray for computation of reflection coefficient\n",
    "    grazing_angle = np.arccos(-1*np.dot(d1_vector_rx_n, ground_normal))\n",
    "\n",
    "    #relative_velocity = rx_velocity - tx_velocity\n",
    "    #velocity_pr_0 = np.dot(d0_vector_tx_n, relative_velocity)\n",
    "    #velocity_pr_1 = np.dot(d1_vector_tx_n, relative_velocity)\n",
    "\n",
    "    # Attenuation caused by radiation pattern\n",
    "\n",
    "\n",
    "    g0 = (dipole_rp(azimuth=tx_azimuth_0) * dipole_rp(azimuth=rx_azimuth_0))\n",
    "\n",
    "    g1 = (dipole_rp(azimuth=tx_azimuth_1) * dipole_rp(azimuth=rx_azimuth_1))\n",
    "\n",
    "    # Attenuation due to reflections (reflection coefficient) computation\n",
    "\n",
    "    def _reflection_c_parallel(grazing_angle, permittivity, conductivity, wavelen):\n",
    "        #eta = permittivity - 60j * wavelen * conductivity\n",
    "        eta = 15 - 60j * SPEED_OF_LIGHT * 3e-2 / 860e6\n",
    "        c = np.cos(grazing_angle)\n",
    "        return (eta - c ** 2) ** 0.5\n",
    "\n",
    "\n",
    "    def _reflection_c_perpendicular(grazing_angle, permittivity, conductivity, wavelen):\n",
    "        #eta = permittivity - 60j * wavelen * conductivity\n",
    "        eta = 15 - 60j * SPEED_OF_LIGHT * 3e-2 / 860e6\n",
    "        c = np.cos(grazing_angle)\n",
    "        return (eta - c ** 2) ** 0.5 / eta\n",
    "\n",
    "\n",
    "    # noinspection PyUnusedLocal\n",
    "    def reflection_constant(*, grazing_angle, polarization, permittivity, conductivity, wavelen, **kwargs):\n",
    "        return -1.0 + 0.j\n",
    "\n",
    "\n",
    "    # noinspection PyUnusedLocal\n",
    "    # @vectorize\n",
    "    def reflection(grazing_angle, polarization, permittivity, conductivity, wavelen):\n",
    "        \"\"\"\n",
    "        Computes reflection coefficient from conducting surface with defined grazing angle and supported relative\n",
    "        permittivity and conductivity of the surface. In order to set type of wave polarization, polarization\n",
    "        parameter is specified. For parallel to surface polarized wave polarization should set to 1, for perpendicular -\n",
    "        to 0; for circular - to 0.5. For different type of elliptic polarization use other value in the range of 0..1\n",
    "        :param grazing_angle: an angle between normal to surface and wave vector\n",
    "        :param polarization: determine the type of polarization of the grazing wave\n",
    "        :param permittivity: the relative_permittivity of two media divided by the surface\n",
    "        :param conductivity: the conductivity of the surface\n",
    "        :param wavelen: the wave length of the grazing wave\n",
    "        :return: the reflection coefficient for specified parameters and the given grazing angle\n",
    "        \"\"\"\n",
    "        s = np.sin(grazing_angle)\n",
    "\n",
    "        if polarization < 0 or polarization > 1:\n",
    "            return float('nan')\n",
    "\n",
    "        if polarization != 0:\n",
    "            c_parallel = _reflection_c_parallel(grazing_angle, permittivity, conductivity, wavelen)\n",
    "            reflection_parallel = (s - c_parallel) / (s + c_parallel)\n",
    "        else:\n",
    "            reflection_parallel = 0.j\n",
    "\n",
    "        if polarization != 1:\n",
    "            c_perpendicular = _reflection_c_perpendicular(grazing_angle, permittivity, conductivity, wavelen)\n",
    "            reflection_perpendicular = (s - c_perpendicular) / (s + c_perpendicular)\n",
    "        else:\n",
    "            reflection_perpendicular = 0.j\n",
    "\n",
    "        return polarization * reflection_parallel + (1 - polarization) * reflection_perpendicular\n",
    "\n",
    "    r1 = reflection(grazing_angle=grazing_angle, wavelen=wavelen, polarization=polarization, permittivity = 15.0, conductivity = 3e-2)\n",
    "\n",
    "\n",
    "    #k = 2 * np.pi / wavelen\n",
    "    k = 18.02426718878446\n",
    "    return (0.5/k)**2 * np.absolute(   g0/d0*np.exp(-1j*k*d0) +\n",
    "                                    r1*g1/d1*np.exp(-1j*k*d1))**2\n"
   ]
  },
  {
   "cell_type": "code",
   "execution_count": null,
   "metadata": {},
   "outputs": [],
   "source": [
    "two_ray_path_loss_3d()"
   ]
  },
  {
   "cell_type": "code",
   "execution_count": 51,
   "metadata": {},
   "outputs": [],
   "source": [
    "def get_path_loss(self, sender, receiver):\n",
    "\n",
    "    sender_velocity = np.array((0, 0, 0))\n",
    "    receiver_velocity = np.array((0, 0, 0))\n",
    "\n",
    "\n",
    "    # Compute path loss in linear scale\n",
    "    pl = pyradise.two_ray_path_loss_3d(\n",
    "        time=0,\n",
    "        wavelen=SPEED_OF_LIGHT/860e6,\n",
    "        tx_pos=tx_antenna.position,\n",
    "        tx_dir_theta=tx_antenna.dir_forward,\n",
    "        tx_dir_phi=tx_antenna.dir_right,\n",
    "        tx_rp=tx_antenna.rp,\n",
    "        tx_velocity=sender_velocity,\n",
    "        rx_pos=rx_antenna.position,\n",
    "        rx_dir_theta=rx_antenna.dir_forward,\n",
    "        rx_dir_phi=rx_antenna.dir_right,\n",
    "        rx_rp=rx_antenna.rp,\n",
    "        rx_velocity=receiver_velocity,\n",
    "        ground_reflection=self.ground_reflection,\n",
    "        permittivity=self.ground_permittivity,\n",
    "        conductivity=self.ground_conductivity,\n",
    "        polarization=tx_antenna.polarization)\n",
    "\n",
    "\n",
    "    return pyradise.lin2db(pl)\n",
    "\n",
    "def get_rx_power(self, sender, receiver, path_loss=None, tx_power=None):\n",
    "\n",
    "    if path_loss is None:\n",
    "        path_loss = self.get_path_loss(sender=sender, receiver=receiver)\n",
    "\n",
    "    polarization_loss = receiver.node.antenna.get_polarization_loss(\n",
    "        sender.node.antenna.polarization)\n",
    "\n",
    "    rx_power = (tx_power + sender.modulation_loss +\n",
    "                sender.node.antenna.cable_loss + sender.node.antenna.gain +\n",
    "                path_loss + receiver.node.antenna.gain + polarization_loss)\n",
    "\n",
    "    return rx_power"
   ]
  },
  {
   "cell_type": "code",
   "execution_count": 37,
   "metadata": {},
   "outputs": [],
   "source": [
    "x_reader = 1.0\n",
    "y_reader = 0.0\n",
    "z_reader = 5.0\n",
    "a = np.pi / 4\n",
    "forward_dir_reader = (-np.sin(a), 0, -np.cos(a))\n",
    "right_dir_reader = (0, -1, 0)\n",
    "position_reader = (-x_reader, y_reader, z_reader)\n",
    "polapolarization_reader = 0.5\n",
    "\n",
    "x_tag = 10.0\n",
    "y_tag = 0.0\n",
    "z_tag = 0.5\n",
    "\n",
    "#tag\n",
    "\n",
    "polapolarization_tag = 1"
   ]
  },
  {
   "cell_type": "code",
   "execution_count": 70,
   "metadata": {},
   "outputs": [
    {
     "output_type": "execute_result",
     "data": {
      "text/plain": [
       "0.0"
      ]
     },
     "metadata": {},
     "execution_count": 70
    }
   ],
   "source": [
    "two_ray_path_loss_3d(position_reader, forward_dir_reader,\n",
    "                         np.array([9, 0, 0.5]), np.array([1,0,0]), 0.5)\n",
    "                         "
   ]
  },
  {
   "cell_type": "code",
   "execution_count": 56,
   "metadata": {},
   "outputs": [
    {
     "output_type": "execute_result",
     "data": {
      "text/plain": [
       "18.02426718878446"
      ]
     },
     "metadata": {},
     "execution_count": 56
    }
   ],
   "source": [
    "k = 2 * np.pi / wavelen\n",
    "k"
   ]
  },
  {
   "cell_type": "code",
   "execution_count": 39,
   "metadata": {},
   "outputs": [
    {
     "output_type": "execute_result",
     "data": {
      "text/plain": [
       "(1+60j)"
      ]
     },
     "metadata": {},
     "execution_count": 39
    }
   ],
   "source": [
    "60j+1"
   ]
  },
  {
   "cell_type": "code",
   "execution_count": null,
   "metadata": {},
   "outputs": [],
   "source": []
  }
 ]
}