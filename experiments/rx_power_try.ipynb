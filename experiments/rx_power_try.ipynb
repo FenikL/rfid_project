{
 "metadata": {
  "language_info": {
   "codemirror_mode": {
    "name": "ipython",
    "version": 3
   },
   "file_extension": ".py",
   "mimetype": "text/x-python",
   "name": "python",
   "nbconvert_exporter": "python",
   "pygments_lexer": "ipython3",
   "version": "3.8.5"
  },
  "orig_nbformat": 2,
  "kernelspec": {
   "name": "python38564bitvenvvenvbe4309bda7b547d3a6a57a070b31c3db",
   "display_name": "Python 3.8.5  ('.venv': venv)"
  },
  "metadata": {
   "interpreter": {
    "hash": "da7289696dc35b81a76b8363b3c380d84f1d232f3a33ee24bf3b38e8af390ccd"
   }
  }
 },
 "nbformat": 4,
 "nbformat_minor": 2,
 "cells": [
  {
   "cell_type": "code",
   "execution_count": 65,
   "metadata": {},
   "outputs": [],
   "source": [
    "import numpy as np\n",
    "import pandas as pd\n",
    "import scipy.special\n",
    "from numba import vectorize\n",
    "from numpy import linalg as la\n",
    "from collections import namedtuple"
   ]
  },
  {
   "cell_type": "code",
   "execution_count": 2,
   "metadata": {},
   "outputs": [],
   "source": [
    "SPEED_OF_LIGHT = 299792458.0 \n",
    "permittivity = 15.0\n",
    "conductivity = 3e-2"
   ]
  },
  {
   "cell_type": "code",
   "execution_count": 52,
   "metadata": {},
   "outputs": [],
   "source": [
    "from model import variables"
   ]
  },
  {
   "cell_type": "code",
   "execution_count": 61,
   "metadata": {},
   "outputs": [],
   "source": [
    "tari = 6.25\n",
    "trext = 0\n",
    "num_of_sym_per_bit = 2\n",
    "variables_by_tari = variables.get_variables_from_tari(tari)\n",
    "bitrate = variables.get_bitrate(variables_by_tari.rtcal,\n",
    "                                variables_by_tari.blf,\n",
    "                                num_of_sym_per_bit)\n",
    "preamble = variables.get_preamble(tari, variables_by_tari.rtcal,\n",
    "                                    variables_by_tari.trcal,\n",
    "                                    trext, num_of_sym_per_bit)"
   ]
  },
  {
   "cell_type": "code",
   "execution_count": 3,
   "metadata": {},
   "outputs": [],
   "source": [
    "\n",
    "def dbm2w(value_dbm):\n",
    "    return 10 ** (value_dbm / 10 - 3)\n",
    "\n",
    "def w2dbm(value_watt):\n",
    "    return 10 * np.log10(value_watt) + 30 if value_watt >= 1e-15 else -np.inf\n",
    "\n",
    "def db2lin(value_db):\n",
    "    return 10 ** (value_db / 10)\n",
    "\n",
    "@vectorize\n",
    "def lin2db(value_linear):\n",
    "    return 10 * np.log10(value_linear) if value_linear >= 1e-15 else -np.inf"
   ]
  },
  {
   "cell_type": "code",
   "execution_count": 4,
   "metadata": {},
   "outputs": [],
   "source": [
    "def dipole_rp(*, azimuth, **kwargs):\n",
    "    \"\"\"\n",
    "    Returns dipole directional gain\n",
    "    :param azimuth:\n",
    "    :return:\n",
    "    \"\"\"\n",
    "    c = np.cos(azimuth)\n",
    "    s = np.sin(azimuth)\n",
    "    if c > 1e-9:\n",
    "        return np.abs(np.cos(np.pi / 2 * s) / c)\n",
    "    else:\n",
    "        return 0.0"
   ]
  },
  {
   "cell_type": "code",
   "execution_count": 6,
   "metadata": {},
   "outputs": [],
   "source": []
  },
  {
   "cell_type": "code",
   "execution_count": 5,
   "metadata": {},
   "outputs": [],
   "source": [
    "def two_ray_path_loss_3d(tx_pos, tx_dir_theta, rx_pos, rx_dir_theta, polarization):\n",
    "    \"\"\"\n",
    "    Computes free space signal attenuation between the transmitter and the receiver in linear scale.\n",
    "    :param wavelen: a wavelen of signal carrier\n",
    "    :param time: Time passed from the start of reception\n",
    "    :param ground_reflection: a function to compute a complex-valued reflection coefficient\n",
    "    :param tx_velocity: the velocity of the transmitter\n",
    "    :param tx_dir_phi: the vector pointed the direction with tilt angle equals 0 of the transmitter antenna.\n",
    "    :param tx_dir_theta: the vector pointed the direction with azimuth angle equals 0 of the transmitter antenna.\n",
    "    :param tx_pos: a current position of the transmitter.\n",
    "    :param tx_rp: a radiation pattern of the transmitter\n",
    "    :param rx_velocity: the velocity of the receiver\n",
    "    :param rx_dir_phi: the vector pointed the direction with tilt angle equals 0 of the transmitter antenna.\n",
    "    :param rx_dir_theta: the vector pointed the direction with azimuth angle equals 0 of the transmitter antenna.\n",
    "    :param rx_pos: a current position of the receiver\n",
    "    :param rx_rp: a radiation pattern of the receiver\n",
    "    :return: free space path loss in linear scale\n",
    "    \"\"\"\n",
    "\n",
    "    permittivity = 15.0\n",
    "    conductivity = 3e-2\n",
    "    wavelen = SPEED_OF_LIGHT/860e6\n",
    "\n",
    "    def dipole_rp(*, azimuth, **kwargs):  \n",
    "        \"\"\"\n",
    "        Returns dipole directional gain\n",
    "        :param azimuth:\n",
    "        :return:\n",
    "        \"\"\"\n",
    "        c = np.cos(azimuth)\n",
    "        s = np.sin(azimuth)\n",
    "        if c > 1e-9:\n",
    "            return np.abs(np.cos(np.pi / 2 * s) / c)\n",
    "        else:\n",
    "            return 0.0\n",
    "\n",
    "    # LoS - Line-of-Sight, NLoS - Non-Line-of-Sight\n",
    "\n",
    "    # Ray geometry computation\n",
    "    ground_normal = np.array([0, 0, 1])\n",
    "    rx_pos_refl = np.array([rx_pos[0], rx_pos[1], -rx_pos[2]])  # Reflect RX relatively the ground\n",
    "\n",
    "    d0_vector = rx_pos - tx_pos            # LoS ray vector\n",
    "    d1_vector = rx_pos_refl - tx_pos       # NLoS ray vector\n",
    "    d0 = la.norm(d0_vector)                # LoS ray length\n",
    "    d1 = la.norm(d1_vector)                # NLoS ray length\n",
    "    d0_vector_tx_n = d0_vector / d0        # LoS ray vector normalized\n",
    "    d0_vector_rx_n = -d0_vector_tx_n\n",
    "    d1_vector_tx_n = d1_vector / d1        # NLoS ray vector normalized\n",
    "    d1_vector_rx_n = np.array([-d1_vector_tx_n[0], -d1_vector_tx_n[1], d1_vector_tx_n[2]])\n",
    "\n",
    "    # Azimuth and tilt angle computation for computation of attenuation\n",
    "    # caused by deflection from polar direction\n",
    "    tx_azimuth_0 = np.arccos(np.dot(d0_vector_tx_n, tx_dir_theta))\n",
    "    rx_azimuth_0 = np.arccos(np.dot(d0_vector_rx_n, rx_dir_theta))\n",
    "    tx_azimuth_1 = np.arccos(np.dot(d1_vector_tx_n, tx_dir_theta))\n",
    "    rx_azimuth_1 = np.arccos(np.dot(d1_vector_rx_n, rx_dir_theta))\n",
    "\n",
    "    # A grazing angle of NLoS ray for computation of reflection coefficient\n",
    "    grazing_angle = np.arccos(-1*np.dot(d1_vector_rx_n, ground_normal))\n",
    "\n",
    "    #relative_velocity = rx_velocity - tx_velocity\n",
    "    #velocity_pr_0 = np.dot(d0_vector_tx_n, relative_velocity)\n",
    "    #velocity_pr_1 = np.dot(d1_vector_tx_n, relative_velocity)\n",
    "\n",
    "    # Attenuation caused by radiation pattern\n",
    "\n",
    "\n",
    "    g0 = (dipole_rp(azimuth=tx_azimuth_0) * dipole_rp(azimuth=rx_azimuth_0))\n",
    "\n",
    "    g1 = (dipole_rp(azimuth=tx_azimuth_1) * dipole_rp(azimuth=rx_azimuth_1))\n",
    "\n",
    "    # Attenuation due to reflections (reflection coefficient) computation\n",
    "\n",
    "    def _reflection_c_parallel(grazing_angle, permittivity, conductivity, wavelen):\n",
    "        #eta = permittivity - 60j * wavelen * conductivity\n",
    "        eta = 15 - 60j * SPEED_OF_LIGHT * 3e-2 / 860e6\n",
    "        c = np.cos(grazing_angle)\n",
    "        return (eta - c ** 2) ** 0.5\n",
    "\n",
    "\n",
    "    def _reflection_c_perpendicular(grazing_angle, permittivity, conductivity, wavelen):\n",
    "        #eta = permittivity - 60j * wavelen * conductivity\n",
    "        eta = 15 - 60j * SPEED_OF_LIGHT * 3e-2 / 860e6\n",
    "        c = np.cos(grazing_angle)\n",
    "        return (eta - c ** 2) ** 0.5 / eta\n",
    "\n",
    "\n",
    "    # noinspection PyUnusedLocal\n",
    "    def reflection_constant(*, grazing_angle, polarization, permittivity, conductivity, wavelen, **kwargs):\n",
    "        return -1.0 + 0.j\n",
    "\n",
    "\n",
    "    # noinspection PyUnusedLocal\n",
    "    # @vectorize\n",
    "    def reflection(grazing_angle, polarization, permittivity, conductivity, wavelen):\n",
    "        \"\"\"\n",
    "        Computes reflection coefficient from conducting surface with defined grazing angle and supported relative\n",
    "        permittivity and conductivity of the surface. In order to set type of wave polarization, polarization\n",
    "        parameter is specified. For parallel to surface polarized wave polarization should set to 1, for perpendicular -\n",
    "        to 0; for circular - to 0.5. For different type of elliptic polarization use other value in the range of 0..1\n",
    "        :param grazing_angle: an angle between normal to surface and wave vector\n",
    "        :param polarization: determine the type of polarization of the grazing wave\n",
    "        :param permittivity: the relative_permittivity of two media divided by the surface\n",
    "        :param conductivity: the conductivity of the surface\n",
    "        :param wavelen: the wave length of the grazing wave\n",
    "        :return: the reflection coefficient for specified parameters and the given grazing angle\n",
    "        \"\"\"\n",
    "        s = np.sin(grazing_angle)\n",
    "\n",
    "        if polarization < 0 or polarization > 1:\n",
    "            return float('nan')\n",
    "\n",
    "        if polarization != 0:\n",
    "            c_parallel = _reflection_c_parallel(grazing_angle, permittivity, conductivity, wavelen)\n",
    "            reflection_parallel = (s - c_parallel) / (s + c_parallel)\n",
    "        else:\n",
    "            reflection_parallel = 0.j\n",
    "\n",
    "        if polarization != 1:\n",
    "            c_perpendicular = _reflection_c_perpendicular(grazing_angle, permittivity, conductivity, wavelen)\n",
    "            reflection_perpendicular = (s - c_perpendicular) / (s + c_perpendicular)\n",
    "        else:\n",
    "            reflection_perpendicular = 0.j\n",
    "\n",
    "        return polarization * reflection_parallel + (1 - polarization) * reflection_perpendicular\n",
    "\n",
    "    r1 = reflection(grazing_angle=grazing_angle, wavelen=wavelen, polarization=polarization, permittivity = 15.0, conductivity = 3e-2)\n",
    "\n",
    "\n",
    "    #k = 2 * np.pi / wavelen\n",
    "    k = 18.02426718878446\n",
    "    return (0.5/k)**2 * np.absolute(   g0/d0*np.exp(-1j*k*d0) +\n",
    "                                    r1*g1/d1*np.exp(-1j*k*d1))**2\n"
   ]
  },
  {
   "cell_type": "code",
   "execution_count": null,
   "metadata": {},
   "outputs": [],
   "source": [
    "two_ray_path_loss_3d()"
   ]
  },
  {
   "cell_type": "code",
   "execution_count": 6,
   "metadata": {},
   "outputs": [],
   "source": [
    "def get_path_loss(self, sender, receiver):\n",
    "\n",
    "    sender_velocity = np.array((0, 0, 0))\n",
    "    receiver_velocity = np.array((0, 0, 0))\n",
    "\n",
    "\n",
    "    # Compute path loss in linear scale\n",
    "    pl = pyradise.two_ray_path_loss_3d(\n",
    "        time=0,\n",
    "        wavelen=SPEED_OF_LIGHT/860e6,\n",
    "        tx_pos=tx_antenna.position,\n",
    "        tx_dir_theta=tx_antenna.dir_forward,\n",
    "        tx_dir_phi=tx_antenna.dir_right,\n",
    "        tx_rp=tx_antenna.rp,\n",
    "        tx_velocity=sender_velocity,\n",
    "        rx_pos=rx_antenna.position,\n",
    "        rx_dir_theta=rx_antenna.dir_forward,\n",
    "        rx_dir_phi=rx_antenna.dir_right,\n",
    "        rx_rp=rx_antenna.rp,\n",
    "        rx_velocity=receiver_velocity,\n",
    "        ground_reflection=self.ground_reflection,\n",
    "        permittivity=self.ground_permittivity,\n",
    "        conductivity=self.ground_conductivity,\n",
    "        polarization=tx_antenna.polarization)\n",
    "\n",
    "\n",
    "    return pyradise.lin2db(pl)\n",
    "\n",
    "def get_rx_power(path_loss=None, tx_power=None):\n",
    "\n",
    "\n",
    "\n",
    "    \n",
    "    reader_gain = 8.0\n",
    "    tag_gain = 2.0\n",
    "    polarization_loss = -3\n",
    "    cable_loss = -1.0\n",
    "    tag_modulation_loss = -10.0\n",
    "\n",
    "\n",
    "    rx_power = (tx_power + tag_modulation_loss +\n",
    "                cable_loss + reader_gain +\n",
    "                path_loss + tag_gain + polarization_loss)\n",
    "\n",
    "    return rx_power"
   ]
  },
  {
   "cell_type": "code",
   "execution_count": 7,
   "metadata": {},
   "outputs": [],
   "source": [
    "x_reader = 1.0\n",
    "y_reader = 0.0\n",
    "z_reader = 5.0\n",
    "a = np.pi / 4\n",
    "forward_dir_reader = (-np.sin(a), 0, -np.cos(a))\n",
    "#right_dir_reader = (0, -1, 0)\n",
    "position_reader = (-x_reader, y_reader, z_reader)\n",
    "polapolarization_reader = 0.5\n",
    "\n",
    "x_tag = -10.0\n",
    "y_tag = 0.0\n",
    "z_tag = 0.5\n",
    "\n",
    "#tag\n",
    "\n",
    "polapolarization_tag = 1\n",
    "reader_tx_power = 31.5"
   ]
  },
  {
   "cell_type": "code",
   "execution_count": 8,
   "metadata": {},
   "outputs": [],
   "source": [
    "def get_path_loth_for_reader(x):\n",
    "    return two_ray_path_loss_3d(position_reader, forward_dir_reader, np.array([-x, 0, 0.5]), np.array([1,0,0]), 0.5)\n",
    "def get_path_loth_for_tag(x):\n",
    "    return two_ray_path_loss_3d(np.array([-x, 0, 0.5]), np.array([1,0,0]), position_reader, forward_dir_reader, 1)"
   ]
  },
  {
   "cell_type": "code",
   "execution_count": 56,
   "metadata": {},
   "outputs": [
    {
     "output_type": "execute_result",
     "data": {
      "text/plain": [
       "18.02426718878446"
      ]
     },
     "metadata": {},
     "execution_count": 56
    }
   ],
   "source": [
    "tx_pos, tx_dir_theta, rx_pos, rx_dir_theta, polarization"
   ]
  },
  {
   "cell_type": "code",
   "execution_count": 16,
   "metadata": {},
   "outputs": [],
   "source": [
    "reader_power = get_rx_power(path_loss=lin2db(get_path_loth_for_reader(3)), tx_power=reader_tx_power)"
   ]
  },
  {
   "cell_type": "code",
   "execution_count": 17,
   "metadata": {},
   "outputs": [],
   "source": [
    "tag_power = get_rx_power(path_loss=lin2db(get_path_loth_for_tag(3)), tx_power=0)"
   ]
  },
  {
   "cell_type": "code",
   "execution_count": 18,
   "metadata": {},
   "outputs": [
    {
     "output_type": "execute_result",
     "data": {
      "text/plain": [
       "-83.42567935029858"
      ]
     },
     "metadata": {},
     "execution_count": 18
    }
   ],
   "source": [
    "reader_power + tag_power"
   ]
  },
  {
   "cell_type": "code",
   "execution_count": 19,
   "metadata": {},
   "outputs": [],
   "source": [
    "def sum_of_rx_power(x):\n",
    "    reader_power = get_rx_power(path_loss=lin2db(get_path_loth_for_reader(x)), tx_power=reader_tx_power)\n",
    "    tag_power = get_rx_power(path_loss=lin2db(get_path_loth_for_tag(x)), tx_power=0)\n",
    "    return reader_power + tag_power"
   ]
  },
  {
   "cell_type": "code",
   "execution_count": 33,
   "metadata": {},
   "outputs": [
    {
     "output_type": "stream",
     "name": "stderr",
     "text": [
      "<ipython-input-19-1707a1646a38>:2: RuntimeWarning: divide by zero encountered in lin2db\n  reader_power = get_rx_power(path_loss=lin2db(get_path_loth_for_reader(x)), tx_power=reader_tx_power)\n<ipython-input-19-1707a1646a38>:3: RuntimeWarning: divide by zero encountered in lin2db\n  tag_power = get_rx_power(path_loss=lin2db(get_path_loth_for_tag(x)), tx_power=0)\n"
     ]
    }
   ],
   "source": [
    "x = [x for x in np.arange(0, 12, 0.01)]\n",
    "rx_list = [sum_of_rx_power(x) for x in np.arange(0, 12, 0.01)]"
   ]
  },
  {
   "cell_type": "code",
   "execution_count": 34,
   "metadata": {},
   "outputs": [],
   "source": [
    "df = pd.DataFrame()\n",
    "df['x'] = x\n",
    "df['rx_list'] = rx_list"
   ]
  },
  {
   "cell_type": "code",
   "execution_count": 37,
   "metadata": {},
   "outputs": [
    {
     "output_type": "execute_result",
     "data": {
      "text/plain": [
       "<AxesSubplot:xlabel='x'>"
      ]
     },
     "metadata": {},
     "execution_count": 37
    },
    {
     "output_type": "display_data",
     "data": {
      "text/plain": "<Figure size 432x288 with 1 Axes>",
      "image/svg+xml": "<?xml version=\"1.0\" encoding=\"utf-8\" standalone=\"no\"?>\n<!DOCTYPE svg PUBLIC \"-//W3C//DTD SVG 1.1//EN\"\n  \"http://www.w3.org/Graphics/SVG/1.1/DTD/svg11.dtd\">\n<!-- Created with matplotlib (https://matplotlib.org/) -->\n<svg height=\"262.19625pt\" version=\"1.1\" viewBox=\"0 0 383.667187 262.19625\" width=\"383.667187pt\" xmlns=\"http://www.w3.org/2000/svg\" xmlns:xlink=\"http://www.w3.org/1999/xlink\">\n <metadata>\n  <rdf:RDF xmlns:cc=\"http://creativecommons.org/ns#\" xmlns:dc=\"http://purl.org/dc/elements/1.1/\" xmlns:rdf=\"http://www.w3.org/1999/02/22-rdf-syntax-ns#\">\n   <cc:Work>\n    <dc:type rdf:resource=\"http://purl.org/dc/dcmitype/StillImage\"/>\n    <dc:date>2021-04-08T12:42:42.678465</dc:date>\n    <dc:format>image/svg+xml</dc:format>\n    <dc:creator>\n     <cc:Agent>\n      <dc:title>Matplotlib v3.3.4, https://matplotlib.org/</dc:title>\n     </cc:Agent>\n    </dc:creator>\n   </cc:Work>\n  </rdf:RDF>\n </metadata>\n <defs>\n  <style type=\"text/css\">*{stroke-linecap:butt;stroke-linejoin:round;}</style>\n </defs>\n <g id=\"figure_1\">\n  <g id=\"patch_1\">\n   <path d=\"M 0 262.19625 \nL 383.667187 262.19625 \nL 383.667187 0 \nL 0 0 \nz\n\" style=\"fill:none;\"/>\n  </g>\n  <g id=\"axes_1\">\n   <g id=\"patch_2\">\n    <path d=\"M 41.667188 224.64 \nL 376.467188 224.64 \nL 376.467188 7.2 \nL 41.667188 7.2 \nz\n\" style=\"fill:#ffffff;\"/>\n   </g>\n   <g id=\"matplotlib.axis_1\">\n    <g id=\"xtick_1\">\n     <g id=\"line2d_1\">\n      <defs>\n       <path d=\"M 0 0 \nL 0 3.5 \n\" id=\"m8af2129f63\" style=\"stroke:#000000;stroke-width:0.8;\"/>\n      </defs>\n      <g>\n       <use style=\"stroke:#000000;stroke-width:0.8;\" x=\"84.327992\" xlink:href=\"#m8af2129f63\" y=\"224.64\"/>\n      </g>\n     </g>\n     <g id=\"text_1\">\n      <!-- 2 -->\n      <g transform=\"translate(81.146742 239.238437)scale(0.1 -0.1)\">\n       <defs>\n        <path d=\"M 19.1875 8.296875 \nL 53.609375 8.296875 \nL 53.609375 0 \nL 7.328125 0 \nL 7.328125 8.296875 \nQ 12.9375 14.109375 22.625 23.890625 \nQ 32.328125 33.6875 34.8125 36.53125 \nQ 39.546875 41.84375 41.421875 45.53125 \nQ 43.3125 49.21875 43.3125 52.78125 \nQ 43.3125 58.59375 39.234375 62.25 \nQ 35.15625 65.921875 28.609375 65.921875 \nQ 23.96875 65.921875 18.8125 64.3125 \nQ 13.671875 62.703125 7.8125 59.421875 \nL 7.8125 69.390625 \nQ 13.765625 71.78125 18.9375 73 \nQ 24.125 74.21875 28.421875 74.21875 \nQ 39.75 74.21875 46.484375 68.546875 \nQ 53.21875 62.890625 53.21875 53.421875 \nQ 53.21875 48.921875 51.53125 44.890625 \nQ 49.859375 40.875 45.40625 35.40625 \nQ 44.1875 33.984375 37.640625 27.21875 \nQ 31.109375 20.453125 19.1875 8.296875 \nz\n\" id=\"DejaVuSans-50\"/>\n       </defs>\n       <use xlink:href=\"#DejaVuSans-50\"/>\n      </g>\n     </g>\n    </g>\n    <g id=\"xtick_2\">\n     <g id=\"line2d_2\">\n      <g>\n       <use style=\"stroke:#000000;stroke-width:0.8;\" x=\"139.767635\" xlink:href=\"#m8af2129f63\" y=\"224.64\"/>\n      </g>\n     </g>\n     <g id=\"text_2\">\n      <!-- 4 -->\n      <g transform=\"translate(136.586385 239.238437)scale(0.1 -0.1)\">\n       <defs>\n        <path d=\"M 37.796875 64.3125 \nL 12.890625 25.390625 \nL 37.796875 25.390625 \nz\nM 35.203125 72.90625 \nL 47.609375 72.90625 \nL 47.609375 25.390625 \nL 58.015625 25.390625 \nL 58.015625 17.1875 \nL 47.609375 17.1875 \nL 47.609375 0 \nL 37.796875 0 \nL 37.796875 17.1875 \nL 4.890625 17.1875 \nL 4.890625 26.703125 \nz\n\" id=\"DejaVuSans-52\"/>\n       </defs>\n       <use xlink:href=\"#DejaVuSans-52\"/>\n      </g>\n     </g>\n    </g>\n    <g id=\"xtick_3\">\n     <g id=\"line2d_3\">\n      <g>\n       <use style=\"stroke:#000000;stroke-width:0.8;\" x=\"195.207277\" xlink:href=\"#m8af2129f63\" y=\"224.64\"/>\n      </g>\n     </g>\n     <g id=\"text_3\">\n      <!-- 6 -->\n      <g transform=\"translate(192.026027 239.238437)scale(0.1 -0.1)\">\n       <defs>\n        <path d=\"M 33.015625 40.375 \nQ 26.375 40.375 22.484375 35.828125 \nQ 18.609375 31.296875 18.609375 23.390625 \nQ 18.609375 15.53125 22.484375 10.953125 \nQ 26.375 6.390625 33.015625 6.390625 \nQ 39.65625 6.390625 43.53125 10.953125 \nQ 47.40625 15.53125 47.40625 23.390625 \nQ 47.40625 31.296875 43.53125 35.828125 \nQ 39.65625 40.375 33.015625 40.375 \nz\nM 52.59375 71.296875 \nL 52.59375 62.3125 \nQ 48.875 64.0625 45.09375 64.984375 \nQ 41.3125 65.921875 37.59375 65.921875 \nQ 27.828125 65.921875 22.671875 59.328125 \nQ 17.53125 52.734375 16.796875 39.40625 \nQ 19.671875 43.65625 24.015625 45.921875 \nQ 28.375 48.1875 33.59375 48.1875 \nQ 44.578125 48.1875 50.953125 41.515625 \nQ 57.328125 34.859375 57.328125 23.390625 \nQ 57.328125 12.15625 50.6875 5.359375 \nQ 44.046875 -1.421875 33.015625 -1.421875 \nQ 20.359375 -1.421875 13.671875 8.265625 \nQ 6.984375 17.96875 6.984375 36.375 \nQ 6.984375 53.65625 15.1875 63.9375 \nQ 23.390625 74.21875 37.203125 74.21875 \nQ 40.921875 74.21875 44.703125 73.484375 \nQ 48.484375 72.75 52.59375 71.296875 \nz\n\" id=\"DejaVuSans-54\"/>\n       </defs>\n       <use xlink:href=\"#DejaVuSans-54\"/>\n      </g>\n     </g>\n    </g>\n    <g id=\"xtick_4\">\n     <g id=\"line2d_4\">\n      <g>\n       <use style=\"stroke:#000000;stroke-width:0.8;\" x=\"250.646919\" xlink:href=\"#m8af2129f63\" y=\"224.64\"/>\n      </g>\n     </g>\n     <g id=\"text_4\">\n      <!-- 8 -->\n      <g transform=\"translate(247.465669 239.238437)scale(0.1 -0.1)\">\n       <defs>\n        <path d=\"M 31.78125 34.625 \nQ 24.75 34.625 20.71875 30.859375 \nQ 16.703125 27.09375 16.703125 20.515625 \nQ 16.703125 13.921875 20.71875 10.15625 \nQ 24.75 6.390625 31.78125 6.390625 \nQ 38.8125 6.390625 42.859375 10.171875 \nQ 46.921875 13.96875 46.921875 20.515625 \nQ 46.921875 27.09375 42.890625 30.859375 \nQ 38.875 34.625 31.78125 34.625 \nz\nM 21.921875 38.8125 \nQ 15.578125 40.375 12.03125 44.71875 \nQ 8.5 49.078125 8.5 55.328125 \nQ 8.5 64.0625 14.71875 69.140625 \nQ 20.953125 74.21875 31.78125 74.21875 \nQ 42.671875 74.21875 48.875 69.140625 \nQ 55.078125 64.0625 55.078125 55.328125 \nQ 55.078125 49.078125 51.53125 44.71875 \nQ 48 40.375 41.703125 38.8125 \nQ 48.828125 37.15625 52.796875 32.3125 \nQ 56.78125 27.484375 56.78125 20.515625 \nQ 56.78125 9.90625 50.3125 4.234375 \nQ 43.84375 -1.421875 31.78125 -1.421875 \nQ 19.734375 -1.421875 13.25 4.234375 \nQ 6.78125 9.90625 6.78125 20.515625 \nQ 6.78125 27.484375 10.78125 32.3125 \nQ 14.796875 37.15625 21.921875 38.8125 \nz\nM 18.3125 54.390625 \nQ 18.3125 48.734375 21.84375 45.5625 \nQ 25.390625 42.390625 31.78125 42.390625 \nQ 38.140625 42.390625 41.71875 45.5625 \nQ 45.3125 48.734375 45.3125 54.390625 \nQ 45.3125 60.0625 41.71875 63.234375 \nQ 38.140625 66.40625 31.78125 66.40625 \nQ 25.390625 66.40625 21.84375 63.234375 \nQ 18.3125 60.0625 18.3125 54.390625 \nz\n\" id=\"DejaVuSans-56\"/>\n       </defs>\n       <use xlink:href=\"#DejaVuSans-56\"/>\n      </g>\n     </g>\n    </g>\n    <g id=\"xtick_5\">\n     <g id=\"line2d_5\">\n      <g>\n       <use style=\"stroke:#000000;stroke-width:0.8;\" x=\"306.086562\" xlink:href=\"#m8af2129f63\" y=\"224.64\"/>\n      </g>\n     </g>\n     <g id=\"text_5\">\n      <!-- 10 -->\n      <g transform=\"translate(299.724062 239.238437)scale(0.1 -0.1)\">\n       <defs>\n        <path d=\"M 12.40625 8.296875 \nL 28.515625 8.296875 \nL 28.515625 63.921875 \nL 10.984375 60.40625 \nL 10.984375 69.390625 \nL 28.421875 72.90625 \nL 38.28125 72.90625 \nL 38.28125 8.296875 \nL 54.390625 8.296875 \nL 54.390625 0 \nL 12.40625 0 \nz\n\" id=\"DejaVuSans-49\"/>\n        <path d=\"M 31.78125 66.40625 \nQ 24.171875 66.40625 20.328125 58.90625 \nQ 16.5 51.421875 16.5 36.375 \nQ 16.5 21.390625 20.328125 13.890625 \nQ 24.171875 6.390625 31.78125 6.390625 \nQ 39.453125 6.390625 43.28125 13.890625 \nQ 47.125 21.390625 47.125 36.375 \nQ 47.125 51.421875 43.28125 58.90625 \nQ 39.453125 66.40625 31.78125 66.40625 \nz\nM 31.78125 74.21875 \nQ 44.046875 74.21875 50.515625 64.515625 \nQ 56.984375 54.828125 56.984375 36.375 \nQ 56.984375 17.96875 50.515625 8.265625 \nQ 44.046875 -1.421875 31.78125 -1.421875 \nQ 19.53125 -1.421875 13.0625 8.265625 \nQ 6.59375 17.96875 6.59375 36.375 \nQ 6.59375 54.828125 13.0625 64.515625 \nQ 19.53125 74.21875 31.78125 74.21875 \nz\n\" id=\"DejaVuSans-48\"/>\n       </defs>\n       <use xlink:href=\"#DejaVuSans-49\"/>\n       <use x=\"63.623047\" xlink:href=\"#DejaVuSans-48\"/>\n      </g>\n     </g>\n    </g>\n    <g id=\"xtick_6\">\n     <g id=\"line2d_6\">\n      <g>\n       <use style=\"stroke:#000000;stroke-width:0.8;\" x=\"361.526204\" xlink:href=\"#m8af2129f63\" y=\"224.64\"/>\n      </g>\n     </g>\n     <g id=\"text_6\">\n      <!-- 12 -->\n      <g transform=\"translate(355.163704 239.238437)scale(0.1 -0.1)\">\n       <use xlink:href=\"#DejaVuSans-49\"/>\n       <use x=\"63.623047\" xlink:href=\"#DejaVuSans-50\"/>\n      </g>\n     </g>\n    </g>\n    <g id=\"text_7\">\n     <!-- x -->\n     <g transform=\"translate(206.107813 252.916562)scale(0.1 -0.1)\">\n      <defs>\n       <path d=\"M 54.890625 54.6875 \nL 35.109375 28.078125 \nL 55.90625 0 \nL 45.3125 0 \nL 29.390625 21.484375 \nL 13.484375 0 \nL 2.875 0 \nL 24.125 28.609375 \nL 4.6875 54.6875 \nL 15.28125 54.6875 \nL 29.78125 35.203125 \nL 44.28125 54.6875 \nz\n\" id=\"DejaVuSans-120\"/>\n      </defs>\n      <use xlink:href=\"#DejaVuSans-120\"/>\n     </g>\n    </g>\n   </g>\n   <g id=\"matplotlib.axis_2\">\n    <g id=\"ytick_1\">\n     <g id=\"line2d_7\">\n      <defs>\n       <path d=\"M 0 0 \nL -3.5 0 \n\" id=\"m6fdd308958\" style=\"stroke:#000000;stroke-width:0.8;\"/>\n      </defs>\n      <g>\n       <use style=\"stroke:#000000;stroke-width:0.8;\" x=\"41.667188\" xlink:href=\"#m6fdd308958\" y=\"199.576526\"/>\n      </g>\n     </g>\n     <g id=\"text_8\">\n      <!-- −180 -->\n      <g transform=\"translate(7.2 203.375745)scale(0.1 -0.1)\">\n       <defs>\n        <path d=\"M 10.59375 35.5 \nL 73.1875 35.5 \nL 73.1875 27.203125 \nL 10.59375 27.203125 \nz\n\" id=\"DejaVuSans-8722\"/>\n       </defs>\n       <use xlink:href=\"#DejaVuSans-8722\"/>\n       <use x=\"83.789062\" xlink:href=\"#DejaVuSans-49\"/>\n       <use x=\"147.412109\" xlink:href=\"#DejaVuSans-56\"/>\n       <use x=\"211.035156\" xlink:href=\"#DejaVuSans-48\"/>\n      </g>\n     </g>\n    </g>\n    <g id=\"ytick_2\">\n     <g id=\"line2d_8\">\n      <g>\n       <use style=\"stroke:#000000;stroke-width:0.8;\" x=\"41.667188\" xlink:href=\"#m6fdd308958\" y=\"164.337203\"/>\n      </g>\n     </g>\n     <g id=\"text_9\">\n      <!-- −160 -->\n      <g transform=\"translate(7.2 168.136421)scale(0.1 -0.1)\">\n       <use xlink:href=\"#DejaVuSans-8722\"/>\n       <use x=\"83.789062\" xlink:href=\"#DejaVuSans-49\"/>\n       <use x=\"147.412109\" xlink:href=\"#DejaVuSans-54\"/>\n       <use x=\"211.035156\" xlink:href=\"#DejaVuSans-48\"/>\n      </g>\n     </g>\n    </g>\n    <g id=\"ytick_3\">\n     <g id=\"line2d_9\">\n      <g>\n       <use style=\"stroke:#000000;stroke-width:0.8;\" x=\"41.667188\" xlink:href=\"#m6fdd308958\" y=\"129.097879\"/>\n      </g>\n     </g>\n     <g id=\"text_10\">\n      <!-- −140 -->\n      <g transform=\"translate(7.2 132.897098)scale(0.1 -0.1)\">\n       <use xlink:href=\"#DejaVuSans-8722\"/>\n       <use x=\"83.789062\" xlink:href=\"#DejaVuSans-49\"/>\n       <use x=\"147.412109\" xlink:href=\"#DejaVuSans-52\"/>\n       <use x=\"211.035156\" xlink:href=\"#DejaVuSans-48\"/>\n      </g>\n     </g>\n    </g>\n    <g id=\"ytick_4\">\n     <g id=\"line2d_10\">\n      <g>\n       <use style=\"stroke:#000000;stroke-width:0.8;\" x=\"41.667188\" xlink:href=\"#m6fdd308958\" y=\"93.858556\"/>\n      </g>\n     </g>\n     <g id=\"text_11\">\n      <!-- −120 -->\n      <g transform=\"translate(7.2 97.657774)scale(0.1 -0.1)\">\n       <use xlink:href=\"#DejaVuSans-8722\"/>\n       <use x=\"83.789062\" xlink:href=\"#DejaVuSans-49\"/>\n       <use x=\"147.412109\" xlink:href=\"#DejaVuSans-50\"/>\n       <use x=\"211.035156\" xlink:href=\"#DejaVuSans-48\"/>\n      </g>\n     </g>\n    </g>\n    <g id=\"ytick_5\">\n     <g id=\"line2d_11\">\n      <g>\n       <use style=\"stroke:#000000;stroke-width:0.8;\" x=\"41.667188\" xlink:href=\"#m6fdd308958\" y=\"58.619232\"/>\n      </g>\n     </g>\n     <g id=\"text_12\">\n      <!-- −100 -->\n      <g transform=\"translate(7.2 62.418451)scale(0.1 -0.1)\">\n       <use xlink:href=\"#DejaVuSans-8722\"/>\n       <use x=\"83.789062\" xlink:href=\"#DejaVuSans-49\"/>\n       <use x=\"147.412109\" xlink:href=\"#DejaVuSans-48\"/>\n       <use x=\"211.035156\" xlink:href=\"#DejaVuSans-48\"/>\n      </g>\n     </g>\n    </g>\n    <g id=\"ytick_6\">\n     <g id=\"line2d_12\">\n      <g>\n       <use style=\"stroke:#000000;stroke-width:0.8;\" x=\"41.667188\" xlink:href=\"#m6fdd308958\" y=\"23.379909\"/>\n      </g>\n     </g>\n     <g id=\"text_13\">\n      <!-- −80 -->\n      <g transform=\"translate(13.5625 27.179128)scale(0.1 -0.1)\">\n       <use xlink:href=\"#DejaVuSans-8722\"/>\n       <use x=\"83.789062\" xlink:href=\"#DejaVuSans-56\"/>\n       <use x=\"147.412109\" xlink:href=\"#DejaVuSans-48\"/>\n      </g>\n     </g>\n    </g>\n   </g>\n   <g id=\"line2d_13\">\n    <path clip-path=\"url(#pa16ca599a0)\" d=\"M 56.885369 214.756364 \nL 57.162568 193.449172 \nL 57.716964 172.04449 \nL 58.27136 159.437102 \nL 59.102955 146.717023 \nL 59.93455 137.586307 \nL 61.043342 128.325179 \nL 62.152135 121.017288 \nL 63.538126 113.563218 \nL 64.924117 107.333732 \nL 66.587307 100.947921 \nL 68.250496 95.40181 \nL 70.190883 89.696993 \nL 72.408469 83.922958 \nL 74.626055 78.748755 \nL 77.120839 73.481003 \nL 79.892821 68.171219 \nL 82.664803 63.324424 \nL 85.713983 58.436946 \nL 88.763164 53.947393 \nL 92.089542 49.447056 \nL 95.415921 45.318885 \nL 98.742299 41.53175 \nL 102.068678 38.06303 \nL 105.395056 34.895789 \nL 108.721435 32.016907 \nL 112.047813 29.41584 \nL 115.374192 27.083781 \nL 118.700571 25.013086 \nL 122.026949 23.196888 \nL 125.353328 21.628832 \nL 128.679706 20.302895 \nL 132.006085 19.213266 \nL 135.332463 18.354266 \nL 138.658842 17.720298 \nL 141.98522 17.305819 \nL 145.311599 17.105333 \nL 148.637977 17.113409 \nL 152.241554 17.351345 \nL 155.845131 17.821296 \nL 159.448708 18.517193 \nL 163.052284 19.433661 \nL 166.655861 20.566287 \nL 170.536636 22.023972 \nL 174.417411 23.725034 \nL 178.298186 25.663454 \nL 182.733357 28.143881 \nL 192.989691 34.075454 \nL 194.930079 34.878541 \nL 196.593268 35.359733 \nL 198.256457 35.608416 \nL 199.919647 35.604582 \nL 201.582836 35.352849 \nL 203.246025 34.881142 \nL 205.186413 34.111038 \nL 207.958395 32.745129 \nL 220.155116 26.382013 \nL 224.313089 24.61979 \nL 228.471062 23.111461 \nL 232.629035 21.839674 \nL 237.064207 20.719922 \nL 241.776576 19.770634 \nL 246.766144 19.006103 \nL 252.03291 18.437297 \nL 257.576875 18.072366 \nL 263.398037 17.917007 \nL 269.496398 17.974736 \nL 276.149155 18.263514 \nL 283.356308 18.808481 \nL 291.117858 19.629685 \nL 299.433804 20.742741 \nL 308.304147 22.160023 \nL 317.728886 23.892443 \nL 327.708022 25.951835 \nL 338.241554 28.35386 \nL 349.052284 31.048964 \nL 359.863015 33.972109 \nL 361.249006 34.363345 \nL 361.249006 34.363345 \n\" style=\"fill:none;stroke:#1f77b4;stroke-linecap:square;stroke-width:1.5;\"/>\n   </g>\n   <g id=\"patch_3\">\n    <path d=\"M 41.667188 224.64 \nL 41.667188 7.2 \n\" style=\"fill:none;stroke:#000000;stroke-linecap:square;stroke-linejoin:miter;stroke-width:0.8;\"/>\n   </g>\n   <g id=\"patch_4\">\n    <path d=\"M 376.467188 224.64 \nL 376.467188 7.2 \n\" style=\"fill:none;stroke:#000000;stroke-linecap:square;stroke-linejoin:miter;stroke-width:0.8;\"/>\n   </g>\n   <g id=\"patch_5\">\n    <path d=\"M 41.667188 224.64 \nL 376.467188 224.64 \n\" style=\"fill:none;stroke:#000000;stroke-linecap:square;stroke-linejoin:miter;stroke-width:0.8;\"/>\n   </g>\n   <g id=\"patch_6\">\n    <path d=\"M 41.667188 7.2 \nL 376.467188 7.2 \n\" style=\"fill:none;stroke:#000000;stroke-linecap:square;stroke-linejoin:miter;stroke-width:0.8;\"/>\n   </g>\n   <g id=\"legend_1\">\n    <g id=\"patch_7\">\n     <path d=\"M 308.014063 219.64 \nL 369.467188 219.64 \nQ 371.467188 219.64 371.467188 217.64 \nL 371.467188 203.68375 \nQ 371.467188 201.68375 369.467188 201.68375 \nL 308.014063 201.68375 \nQ 306.014063 201.68375 306.014063 203.68375 \nL 306.014063 217.64 \nQ 306.014063 219.64 308.014063 219.64 \nz\n\" style=\"fill:#ffffff;opacity:0.8;stroke:#cccccc;stroke-linejoin:miter;\"/>\n    </g>\n    <g id=\"line2d_14\">\n     <path d=\"M 310.014063 209.782187 \nL 330.014063 209.782187 \n\" style=\"fill:none;stroke:#1f77b4;stroke-linecap:square;stroke-width:1.5;\"/>\n    </g>\n    <g id=\"line2d_15\"/>\n    <g id=\"text_14\">\n     <!-- rx_list -->\n     <g transform=\"translate(338.014063 213.282187)scale(0.1 -0.1)\">\n      <defs>\n       <path d=\"M 41.109375 46.296875 \nQ 39.59375 47.171875 37.8125 47.578125 \nQ 36.03125 48 33.890625 48 \nQ 26.265625 48 22.1875 43.046875 \nQ 18.109375 38.09375 18.109375 28.8125 \nL 18.109375 0 \nL 9.078125 0 \nL 9.078125 54.6875 \nL 18.109375 54.6875 \nL 18.109375 46.1875 \nQ 20.953125 51.171875 25.484375 53.578125 \nQ 30.03125 56 36.53125 56 \nQ 37.453125 56 38.578125 55.875 \nQ 39.703125 55.765625 41.0625 55.515625 \nz\n\" id=\"DejaVuSans-114\"/>\n       <path d=\"M 50.984375 -16.609375 \nL 50.984375 -23.578125 \nL -0.984375 -23.578125 \nL -0.984375 -16.609375 \nz\n\" id=\"DejaVuSans-95\"/>\n       <path d=\"M 9.421875 75.984375 \nL 18.40625 75.984375 \nL 18.40625 0 \nL 9.421875 0 \nz\n\" id=\"DejaVuSans-108\"/>\n       <path d=\"M 9.421875 54.6875 \nL 18.40625 54.6875 \nL 18.40625 0 \nL 9.421875 0 \nz\nM 9.421875 75.984375 \nL 18.40625 75.984375 \nL 18.40625 64.59375 \nL 9.421875 64.59375 \nz\n\" id=\"DejaVuSans-105\"/>\n       <path d=\"M 44.28125 53.078125 \nL 44.28125 44.578125 \nQ 40.484375 46.53125 36.375 47.5 \nQ 32.28125 48.484375 27.875 48.484375 \nQ 21.1875 48.484375 17.84375 46.4375 \nQ 14.5 44.390625 14.5 40.28125 \nQ 14.5 37.15625 16.890625 35.375 \nQ 19.28125 33.59375 26.515625 31.984375 \nL 29.59375 31.296875 \nQ 39.15625 29.25 43.1875 25.515625 \nQ 47.21875 21.78125 47.21875 15.09375 \nQ 47.21875 7.46875 41.1875 3.015625 \nQ 35.15625 -1.421875 24.609375 -1.421875 \nQ 20.21875 -1.421875 15.453125 -0.5625 \nQ 10.6875 0.296875 5.421875 2 \nL 5.421875 11.28125 \nQ 10.40625 8.6875 15.234375 7.390625 \nQ 20.0625 6.109375 24.8125 6.109375 \nQ 31.15625 6.109375 34.5625 8.28125 \nQ 37.984375 10.453125 37.984375 14.40625 \nQ 37.984375 18.0625 35.515625 20.015625 \nQ 33.0625 21.96875 24.703125 23.78125 \nL 21.578125 24.515625 \nQ 13.234375 26.265625 9.515625 29.90625 \nQ 5.8125 33.546875 5.8125 39.890625 \nQ 5.8125 47.609375 11.28125 51.796875 \nQ 16.75 56 26.8125 56 \nQ 31.78125 56 36.171875 55.265625 \nQ 40.578125 54.546875 44.28125 53.078125 \nz\n\" id=\"DejaVuSans-115\"/>\n       <path d=\"M 18.3125 70.21875 \nL 18.3125 54.6875 \nL 36.8125 54.6875 \nL 36.8125 47.703125 \nL 18.3125 47.703125 \nL 18.3125 18.015625 \nQ 18.3125 11.328125 20.140625 9.421875 \nQ 21.96875 7.515625 27.59375 7.515625 \nL 36.8125 7.515625 \nL 36.8125 0 \nL 27.59375 0 \nQ 17.1875 0 13.234375 3.875 \nQ 9.28125 7.765625 9.28125 18.015625 \nL 9.28125 47.703125 \nL 2.6875 47.703125 \nL 2.6875 54.6875 \nL 9.28125 54.6875 \nL 9.28125 70.21875 \nz\n\" id=\"DejaVuSans-116\"/>\n      </defs>\n      <use xlink:href=\"#DejaVuSans-114\"/>\n      <use x=\"38.488281\" xlink:href=\"#DejaVuSans-120\"/>\n      <use x=\"97.667969\" xlink:href=\"#DejaVuSans-95\"/>\n      <use x=\"147.667969\" xlink:href=\"#DejaVuSans-108\"/>\n      <use x=\"175.451172\" xlink:href=\"#DejaVuSans-105\"/>\n      <use x=\"203.234375\" xlink:href=\"#DejaVuSans-115\"/>\n      <use x=\"255.333984\" xlink:href=\"#DejaVuSans-116\"/>\n     </g>\n    </g>\n   </g>\n  </g>\n </g>\n <defs>\n  <clipPath id=\"pa16ca599a0\">\n   <rect height=\"217.44\" width=\"334.8\" x=\"41.667188\" y=\"7.2\"/>\n  </clipPath>\n </defs>\n</svg>\n",
      "image/png": "[encoded data removed]"
     },
     "metadata": {
      "needs_background": "light"
     }
    }
   ],
   "source": [
    "df.plot(x='x', y='rx_list')"
   ]
  },
  {
   "cell_type": "code",
   "execution_count": 57,
   "metadata": {},
   "outputs": [
    {
     "output_type": "stream",
     "name": "stdout",
     "text": [
      "-24.131769790844608\n"
     ]
    }
   ],
   "source": []
  },
  {
   "cell_type": "code",
   "execution_count": 40,
   "metadata": {},
   "outputs": [],
   "source": [
    "def signal2noise(*, rx_power, noise_power, **kwargs):\n",
    "    \"\"\"\n",
    "    Computes Signal-to-Noise ratio. Input parameters are in logarithmic scale.\n",
    "    :param rx_power:\n",
    "    :param noise_power:\n",
    "    :param kwargs:\n",
    "    :return:\n",
    "    \"\"\"\n",
    "    return db2lin(rx_power - noise_power)\n",
    "# noinspection PyUnusedLocal\n",
    "def sync_angle(*, snr, preamble_duration=9.3e-6, bandwidth=1.2e6, **kwargs):\n",
    "    \"\"\"\n",
    "    Computes the angle of de-synchronisation.\n",
    "    :param snr: an SNR of the received signal\n",
    "    :param preamble_duration: the duration of PHY-preamble in seconds\n",
    "    :param bandwidth: the bandwidth of the signal in herzs\n",
    "    :param kwargs:\n",
    "    :return: the angle of de-synchronisation\n",
    "    \"\"\"\n",
    "    return (snr * preamble_duration * bandwidth) ** -0.5\n",
    "# noinspection PyUnusedLocal\n",
    "def snr_extended(*, snr, sync_phi=0, miller=1, symbol_duration=1.25e-6, bandwidth=1.2e6, **kwargs):\n",
    "    \"\"\"\n",
    "    Computes the extended SNR for BER computation.\n",
    "    :param snr: an SNR of the received signal\n",
    "    :param sync_phi: the de-synchronization\n",
    "    :param miller: the order of Miller encoding\n",
    "    :param symbol_duration: the symbol duration in seconds\n",
    "    :param bandwidth: the bandwidth of the signal in herzs\n",
    "    :param kwargs:\n",
    "    :return: the extended SNR for BER computation\n",
    "    \"\"\"\n",
    "    return miller * snr * symbol_duration * bandwidth * np.cos(sync_phi) ** 2\n",
    "\n",
    "def get_snr(rx_power, m, preamble_duration, blf):\n",
    "    noise = (dbm2w(-80) +\n",
    "                dbm2w(-110))\n",
    "    noise = w2dbm(noise)\n",
    "    raw_snr = signal2noise(\n",
    "        rx_power=rx_power, noise_power=noise)\n",
    "    sync = sync_angle(\n",
    "        snr=raw_snr, preamble_duration=preamble_duration)\n",
    "    snr = snr_extended(\n",
    "        snr=raw_snr, sync_phi=sync, miller=m,\n",
    "        symbol_duration=1.0 / blf)\n",
    "    return snr\n",
    "\n",
    "def ber_over_awgn(snr):\n",
    "    \"\"\"\n",
    "    Computes BER in an additive white gaussian noise (AWGN) channel for Binary Phase Shift Keying (BPSK)\n",
    "    :param snr: the extended SNR\n",
    "    :return:\n",
    "    \"\"\"\n",
    "    def q_function(x):\n",
    "        return 0.5 - 0.5 * special.erf(x / 2 ** 0.5)\n",
    "\n",
    "    t = q_function(snr ** 0.5)\n",
    "    return 2 * t * (1 - t)"
   ]
  },
  {
   "cell_type": "code",
   "execution_count": 64,
   "metadata": {},
   "outputs": [
    {
     "output_type": "stream",
     "name": "stderr",
     "text": [
      "<ipython-input-40-c896d47c150d>:20: RuntimeWarning: divide by zero encountered in double_scalars\n  return (snr * preamble_duration * bandwidth) ** -0.5\n<ipython-input-40-c896d47c150d>:33: RuntimeWarning: invalid value encountered in cos\n  return miller * snr * symbol_duration * bandwidth * np.cos(sync_phi) ** 2\n"
     ]
    },
    {
     "output_type": "error",
     "ename": "NameError",
     "evalue": "name 'special' is not defined",
     "traceback": [
      "\u001b[0;31m---------------------------------------------------------------------------\u001b[0m",
      "\u001b[0;31mNameError\u001b[0m                                 Traceback (most recent call last)",
      "\u001b[0;32m<ipython-input-64-d579d0b8be8c>\u001b[0m in \u001b[0;36m<module>\u001b[0;34m\u001b[0m\n\u001b[1;32m      2\u001b[0m                              \u001b[0mpreamble_duration\u001b[0m\u001b[0;34m=\u001b[0m\u001b[0mpreamble\u001b[0m\u001b[0;34m.\u001b[0m\u001b[0mtag_preamble_len\u001b[0m\u001b[0;34m/\u001b[0m\u001b[0mbitrate\u001b[0m\u001b[0;34m.\u001b[0m\u001b[0mtag_bitrate\u001b[0m\u001b[0;34m,\u001b[0m\u001b[0;34m\u001b[0m\u001b[0;34m\u001b[0m\u001b[0m\n\u001b[1;32m      3\u001b[0m                              blf=variables_by_tari.blf) for rx in rx_list]\n\u001b[0;32m----> 4\u001b[0;31m \u001b[0mber\u001b[0m \u001b[0;34m=\u001b[0m \u001b[0;34m[\u001b[0m\u001b[0mber_over_awgn\u001b[0m\u001b[0;34m(\u001b[0m\u001b[0msnr\u001b[0m\u001b[0;34m)\u001b[0m \u001b[0;32mfor\u001b[0m \u001b[0msnr\u001b[0m \u001b[0;32min\u001b[0m \u001b[0msnr_list\u001b[0m\u001b[0;34m]\u001b[0m\u001b[0;34m\u001b[0m\u001b[0;34m\u001b[0m\u001b[0m\n\u001b[0m",
      "\u001b[0;32m<ipython-input-64-d579d0b8be8c>\u001b[0m in \u001b[0;36m<listcomp>\u001b[0;34m(.0)\u001b[0m\n\u001b[1;32m      2\u001b[0m                              \u001b[0mpreamble_duration\u001b[0m\u001b[0;34m=\u001b[0m\u001b[0mpreamble\u001b[0m\u001b[0;34m.\u001b[0m\u001b[0mtag_preamble_len\u001b[0m\u001b[0;34m/\u001b[0m\u001b[0mbitrate\u001b[0m\u001b[0;34m.\u001b[0m\u001b[0mtag_bitrate\u001b[0m\u001b[0;34m,\u001b[0m\u001b[0;34m\u001b[0m\u001b[0;34m\u001b[0m\u001b[0m\n\u001b[1;32m      3\u001b[0m                              blf=variables_by_tari.blf) for rx in rx_list]\n\u001b[0;32m----> 4\u001b[0;31m \u001b[0mber\u001b[0m \u001b[0;34m=\u001b[0m \u001b[0;34m[\u001b[0m\u001b[0mber_over_awgn\u001b[0m\u001b[0;34m(\u001b[0m\u001b[0msnr\u001b[0m\u001b[0;34m)\u001b[0m \u001b[0;32mfor\u001b[0m \u001b[0msnr\u001b[0m \u001b[0;32min\u001b[0m \u001b[0msnr_list\u001b[0m\u001b[0;34m]\u001b[0m\u001b[0;34m\u001b[0m\u001b[0;34m\u001b[0m\u001b[0m\n\u001b[0m",
      "\u001b[0;32m<ipython-input-40-c896d47c150d>\u001b[0m in \u001b[0;36mber_over_awgn\u001b[0;34m(snr)\u001b[0m\n\u001b[1;32m     55\u001b[0m         \u001b[0;32mreturn\u001b[0m \u001b[0;36m0.5\u001b[0m \u001b[0;34m-\u001b[0m \u001b[0;36m0.5\u001b[0m \u001b[0;34m*\u001b[0m \u001b[0mspecial\u001b[0m\u001b[0;34m.\u001b[0m\u001b[0merf\u001b[0m\u001b[0;34m(\u001b[0m\u001b[0mx\u001b[0m \u001b[0;34m/\u001b[0m \u001b[0;36m2\u001b[0m \u001b[0;34m**\u001b[0m \u001b[0;36m0.5\u001b[0m\u001b[0;34m)\u001b[0m\u001b[0;34m\u001b[0m\u001b[0;34m\u001b[0m\u001b[0m\n\u001b[1;32m     56\u001b[0m \u001b[0;34m\u001b[0m\u001b[0m\n\u001b[0;32m---> 57\u001b[0;31m     \u001b[0mt\u001b[0m \u001b[0;34m=\u001b[0m \u001b[0mq_function\u001b[0m\u001b[0;34m(\u001b[0m\u001b[0msnr\u001b[0m \u001b[0;34m**\u001b[0m \u001b[0;36m0.5\u001b[0m\u001b[0;34m)\u001b[0m\u001b[0;34m\u001b[0m\u001b[0;34m\u001b[0m\u001b[0m\n\u001b[0m\u001b[1;32m     58\u001b[0m     \u001b[0;32mreturn\u001b[0m \u001b[0;36m2\u001b[0m \u001b[0;34m*\u001b[0m \u001b[0mt\u001b[0m \u001b[0;34m*\u001b[0m \u001b[0;34m(\u001b[0m\u001b[0;36m1\u001b[0m \u001b[0;34m-\u001b[0m \u001b[0mt\u001b[0m\u001b[0;34m)\u001b[0m\u001b[0;34m\u001b[0m\u001b[0;34m\u001b[0m\u001b[0m\n",
      "\u001b[0;32m<ipython-input-40-c896d47c150d>\u001b[0m in \u001b[0;36mq_function\u001b[0;34m(x)\u001b[0m\n\u001b[1;32m     53\u001b[0m     \"\"\"\n\u001b[1;32m     54\u001b[0m     \u001b[0;32mdef\u001b[0m \u001b[0mq_function\u001b[0m\u001b[0;34m(\u001b[0m\u001b[0mx\u001b[0m\u001b[0;34m)\u001b[0m\u001b[0;34m:\u001b[0m\u001b[0;34m\u001b[0m\u001b[0;34m\u001b[0m\u001b[0m\n\u001b[0;32m---> 55\u001b[0;31m         \u001b[0;32mreturn\u001b[0m \u001b[0;36m0.5\u001b[0m \u001b[0;34m-\u001b[0m \u001b[0;36m0.5\u001b[0m \u001b[0;34m*\u001b[0m \u001b[0mspecial\u001b[0m\u001b[0;34m.\u001b[0m\u001b[0merf\u001b[0m\u001b[0;34m(\u001b[0m\u001b[0mx\u001b[0m \u001b[0;34m/\u001b[0m \u001b[0;36m2\u001b[0m \u001b[0;34m**\u001b[0m \u001b[0;36m0.5\u001b[0m\u001b[0;34m)\u001b[0m\u001b[0;34m\u001b[0m\u001b[0;34m\u001b[0m\u001b[0m\n\u001b[0m\u001b[1;32m     56\u001b[0m \u001b[0;34m\u001b[0m\u001b[0m\n\u001b[1;32m     57\u001b[0m     \u001b[0mt\u001b[0m \u001b[0;34m=\u001b[0m \u001b[0mq_function\u001b[0m\u001b[0;34m(\u001b[0m\u001b[0msnr\u001b[0m \u001b[0;34m**\u001b[0m \u001b[0;36m0.5\u001b[0m\u001b[0;34m)\u001b[0m\u001b[0;34m\u001b[0m\u001b[0;34m\u001b[0m\u001b[0m\n",
      "\u001b[0;31mNameError\u001b[0m: name 'special' is not defined"
     ]
    }
   ],
   "source": [
    "snr_list = [get_snr(rx_power=rx ,m=num_of_sym_per_bit,\n",
    "                             preamble_duration=preamble.tag_preamble_len/bitrate.tag_bitrate,\n",
    "                             blf=variables_by_tari.blf) for rx in rx_list]\n",
    "ber = [ber_over_awgn(snr) for snr in snr_list]"
   ]
  },
  {
   "cell_type": "code",
   "execution_count": null,
   "metadata": {},
   "outputs": [],
   "source": []
  }
 ]
}